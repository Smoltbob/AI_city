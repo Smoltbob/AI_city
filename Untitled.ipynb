{
 "cells": [
  {
   "cell_type": "code",
   "execution_count": 4,
   "metadata": {},
   "outputs": [
    {
     "name": "stdout",
     "output_type": "stream",
     "text": [
      "(512, 512)\n",
      "(128, 128, 4, 4)\n",
      "(128, 128, 16)\n"
     ]
    }
   ],
   "source": [
    "import numpy as np\n",
    "from scipy import ndimage as ndi\n",
    "from matplotlib import pyplot as plt\n",
    "import matplotlib.cm as cm\n",
    "\n",
    "from skimage import data\n",
    "from skimage import color\n",
    "from skimage.util import view_as_blocks\n",
    "\n",
    "\n",
    "# get astronaut from skimage.data in grayscale\n",
    "l = color.rgb2gray(data.astronaut())\n",
    "print(l.shape)\n",
    "# size of blocks\n",
    "block_shape = (4, 4)\n",
    "\n",
    "# see astronaut as a matrix of blocks (of shape block_shape)\n",
    "view = view_as_blocks(l, block_shape)\n",
    "print(view.shape)\n",
    "\n",
    "# collapse the last two dimensions in one\n",
    "flatten_view = view.reshape(view.shape[0], view.shape[1], -1)\n",
    "print(flatten_view.shape)"
   ]
  },
  {
   "cell_type": "code",
   "execution_count": null,
   "metadata": {},
   "outputs": [],
   "source": []
  }
 ],
 "metadata": {
  "kernelspec": {
   "display_name": "Python 3",
   "language": "python",
   "name": "python3"
  },
  "language_info": {
   "codemirror_mode": {
    "name": "ipython",
    "version": 3
   },
   "file_extension": ".py",
   "mimetype": "text/x-python",
   "name": "python",
   "nbconvert_exporter": "python",
   "pygments_lexer": "ipython3",
   "version": "3.7.1"
  }
 },
 "nbformat": 4,
 "nbformat_minor": 2
}
