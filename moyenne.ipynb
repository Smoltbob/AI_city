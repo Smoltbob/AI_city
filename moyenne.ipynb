{
 "cells": [
  {
   "cell_type": "code",
   "execution_count": null,
   "metadata": {},
   "outputs": [],
   "source": [
    "# Nous allons faire générer une moyenne toutes les secondes\n",
    "# Ce sera notre modèle\n",
    "\n",
    "cap = cv2.VideoCapture('/usagers2/jusimc/travail/Downloads/aic19-track3-train-data/2.mp4')\n",
    "\n",
    "cpt = 0\n",
    "while(cap.isOpened()):\n",
    "    ret, image = cap.read()\n",
    "    \n",
    "cap.release()\n"
   ]
  }
 ],
 "metadata": {
  "kernelspec": {
   "display_name": "Python 3",
   "language": "python",
   "name": "python3"
  },
  "language_info": {
   "codemirror_mode": {
    "name": "ipython",
    "version": 3
   },
   "file_extension": ".py",
   "mimetype": "text/x-python",
   "name": "python",
   "nbconvert_exporter": "python",
   "pygments_lexer": "ipython3",
   "version": "3.6.8"
  }
 },
 "nbformat": 4,
 "nbformat_minor": 2
}
